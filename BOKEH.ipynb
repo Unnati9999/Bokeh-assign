{
  "nbformat": 4,
  "nbformat_minor": 0,
  "metadata": {
    "colab": {
      "provenance": []
    },
    "kernelspec": {
      "name": "python3",
      "display_name": "Python 3"
    },
    "language_info": {
      "name": "python"
    }
  },
  "cells": [
    {
      "cell_type": "markdown",
      "source": [
        "Q1. How can you create a Bokeh plot using Python code?"
      ],
      "metadata": {
        "id": "VfZjdn6kpjVj"
      }
    },
    {
      "cell_type": "markdown",
      "source": [
        "Steps to create a chart with bokeh.plotting interface is:\n",
        "Prepare the data                  .\n",
        "Create a new plot.                                                       \n",
        "Add renders for your data,                       \n",
        " with your visual customization for the plot                                   .\n",
        "Specify where to generate the output (In HTML file or in Jupyter Notebook)                \n",
        "Show the result."
      ],
      "metadata": {
        "id": "rO75kpk5qH1V"
      }
    },
    {
      "cell_type": "markdown",
      "source": [
        "Q2. What are glyphs in Bokeh, and how can you add them to a Bokeh plot? Explain with an example."
      ],
      "metadata": {
        "id": "TmmUfBwdqX4J"
      }
    },
    {
      "cell_type": "code",
      "source": [
        "from bokeh.plotting import figure ,output_file , show\n",
        "from bokeh.sampledata.iris import flowers\n",
        "\n",
        "output_file('line.html')\n",
        "\n",
        "p = figure(title = \"line graph\")\n",
        "p.xaxis.axis_label = \"x axis\"\n",
        "p.yaxis.axis_label = \"y axis\"\n",
        "p.line(flowers['petal_length'] , flowers['petal_width'])\n",
        "show(p)"
      ],
      "metadata": {
        "id": "m0rGfBR7qnxD"
      },
      "execution_count": 9,
      "outputs": []
    },
    {
      "cell_type": "code",
      "source": [],
      "metadata": {
        "id": "fxwHfGHarxjm"
      },
      "execution_count": null,
      "outputs": []
    },
    {
      "cell_type": "markdown",
      "source": [
        "Q3. How can you customize the appearance of a Bokeh plot, including the axes, title, and legend?"
      ],
      "metadata": {
        "id": "C6vHRsEGrajj"
      }
    },
    {
      "cell_type": "markdown",
      "source": [
        "With Bokeh's themes, you can quickly change the appearance of your plot. Themes are a set of pre-defined design parameters such as colors, fonts, or line styles.                                                                         \n",
        "Bokeh comes with five built-in themes: caliber , dark_minimal , light_minimal , night_sky , and contrast .                                                     \n",
        "In Bokeh, the legends correspond to glyphs. This article how Legends appearing in the bokeh plot can be customized. We can customize the legend with its several attributes such as location, color, line-color, font-size, font-style line width"
      ],
      "metadata": {
        "id": "OVn5mwz7rju6"
      }
    },
    {
      "cell_type": "code",
      "source": [],
      "metadata": {
        "id": "kHUjcI2zrvxa"
      },
      "execution_count": null,
      "outputs": []
    },
    {
      "cell_type": "markdown",
      "source": [
        "Q4. What is a Bokeh server, and how can you use it to create interactive plots that can be updated in\n",
        "real time?"
      ],
      "metadata": {
        "id": "anka1r0UrrRr"
      }
    },
    {
      "cell_type": "markdown",
      "source": [
        "Bokeh server makes it easy to create interactive web applications that connect front-end UI events to running Python code.                        \n",
        " Bokeh creates high-level Python models, such as plots, ranges, axes, and glyphs, and then converts these objects to JSON to pass them to its client library, BokehJS.                                      \n",
        " By far the most flexible way to create interactive data visualizations with the Bokeh server is to create Bokeh applications and serve them with the bokeh serve command. The Bokeh server then uses the application code to create sessions and documents for all connecting browsers."
      ],
      "metadata": {
        "id": "HyYDbRFTsKWV"
      }
    },
    {
      "cell_type": "code",
      "source": [],
      "metadata": {
        "id": "dDNDTLtkrtny"
      },
      "execution_count": 8,
      "outputs": []
    },
    {
      "cell_type": "markdown",
      "source": [
        "Q5. How can you embed a Bokeh plot into a web page or dashboard using Flask or Django?"
      ],
      "metadata": {
        "id": "p9XeLgV_sZZS"
      }
    },
    {
      "cell_type": "markdown",
      "source": [
        "\n",
        " You can achieve this with the server_document() function.                   \n",
        " This function accepts the URL to a Bokeh server application and returns a script that embeds a new session from that server every time the script executes.                                                           \n",
        " You can add this tag to an HTML page to include the Bokeh application at that point.\n"
      ],
      "metadata": {
        "id": "J25yAj4bsnOH"
      }
    },
    {
      "cell_type": "code",
      "source": [],
      "metadata": {
        "id": "7qUm-CnxszhY"
      },
      "execution_count": null,
      "outputs": []
    }
  ]
}